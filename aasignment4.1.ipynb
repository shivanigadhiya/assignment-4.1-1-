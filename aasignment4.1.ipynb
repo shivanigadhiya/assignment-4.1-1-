{
 "cells": [
  {
   "cell_type": "markdown",
   "id": "26267190-925c-4028-81d2-c08d4410752c",
   "metadata": {},
   "source": [
    "Q1. Explain Class and Object with respect to Object-Oriented Programming. Give a suitable example.\n",
    "\n",
    "class: It is a code template for creating objects.when we want to create class we have to write class keyword.\n",
    "example:"
   ]
  },
  {
   "cell_type": "code",
   "execution_count": 2,
   "id": "8cd28065-1a4e-48d4-9bae-4b46577f2d42",
   "metadata": {},
   "outputs": [],
   "source": [
    "class abc:\n",
    "    pass"
   ]
  },
  {
   "cell_type": "markdown",
   "id": "15bc1308-6d30-4e56-b824-00eb6e7797f9",
   "metadata": {},
   "source": [
    "object: It is instance of class. example:"
   ]
  },
  {
   "cell_type": "code",
   "execution_count": 6,
   "id": "fa89beb1-ca44-47af-9163-b4850a9d0ac8",
   "metadata": {},
   "outputs": [
    {
     "name": "stdout",
     "output_type": "stream",
     "text": [
      "hello\n"
     ]
    }
   ],
   "source": [
    "class abc:\n",
    "    def aaa(self):\n",
    "        print(\"hello\")\n",
    "Shivani = abc()  \n",
    "Shivani.aaa()"
   ]
  },
  {
   "cell_type": "markdown",
   "id": "3b6a52fa-e256-4e8e-8d0d-0b99025d1862",
   "metadata": {},
   "source": [
    "Q2. Name the four pillars of OOPs."
   ]
  },
  {
   "cell_type": "markdown",
   "id": "835488a6-1944-4ce1-a3f9-291460af4aec",
   "metadata": {},
   "source": [
    "The four pillars of OOPs (object-oriented programming) are data abstraction, encapsulation, inheritance, and polymorphism.\n",
    "\n",
    "data abstraction : Abstraction in python is defined as a process of handling complexity by hiding unnecessary information from the user.\n",
    "\n",
    "encapsulation : Encapsulation is a mechanism of wrapping the data (variables) and code acting on the data (methods) together as a single unit.\n",
    "\n",
    "inheritance : Inheritance allows us to define a class that inherits all the methods and properties from another class.\n",
    "\n",
    "polymorphism : The word \"polymorphism\" means \"many forms\", and in programming it refers to methods/functions/operators with the same name that can be executed on many objects or classes."
   ]
  },
  {
   "cell_type": "markdown",
   "id": "1df6e9f8-ab40-4c5a-8524-4382744c2f78",
   "metadata": {},
   "source": [
    "Q3. Explain why the __init__() function is used. Give a suitable example."
   ]
  },
  {
   "cell_type": "markdown",
   "id": "89c437af-1151-4c21-965f-b5cdf6b93344",
   "metadata": {},
   "source": [
    "init is a special python method that runs whenever a new object is created. These types of functions are used to initialize the attributes of that class,example:"
   ]
  },
  {
   "cell_type": "code",
   "execution_count": 1,
   "id": "423f8a30-05a6-47df-9541-f04e5269c9fd",
   "metadata": {},
   "outputs": [
    {
     "data": {
      "text/plain": [
       "(1234567888, 'shivani@gmail.com', 512)"
      ]
     },
     "execution_count": 1,
     "metadata": {},
     "output_type": "execute_result"
    }
   ],
   "source": [
    "class pwskills:\n",
    "    def __init__(self,phone_number,email_id,student_id):\n",
    "        self.phone_number=phone_number\n",
    "        self.email_id=email_id\n",
    "        self.student_id=student_id\n",
    "    def return_student_details(self):\n",
    "        return self.phone_number,self.email_id,self.student_id\n",
    "shivani= pwskills(1234567888,\"shivani@gmail.com\",512)\n",
    "shivani.return_student_details()\n"
   ]
  },
  {
   "cell_type": "markdown",
   "id": "39f22332-93d3-4464-ae5d-3c6241f20149",
   "metadata": {},
   "source": [
    "Q4. Why self is used in OOPs?"
   ]
  },
  {
   "cell_type": "markdown",
   "id": "92cceb22-0104-4558-bda3-3aa8fee55482",
   "metadata": {},
   "source": [
    "self : The self parameter is a reference to the current instance of the class, and is used to access variables that belongs to the class and the user can use different name in place of it."
   ]
  },
  {
   "cell_type": "code",
   "execution_count": 2,
   "id": "c78ac563-4bc3-449c-a534-bf09e74e7aa8",
   "metadata": {},
   "outputs": [
    {
     "data": {
      "text/plain": [
       "5"
      ]
     },
     "execution_count": 2,
     "metadata": {},
     "output_type": "execute_result"
    }
   ],
   "source": [
    "class abc:\n",
    "    def add(self,x,y):\n",
    "        return x+y\n",
    "sh = abc()\n",
    "sh.add(2,3)"
   ]
  },
  {
   "cell_type": "markdown",
   "id": "c0471e8d-1c07-4d1b-9331-20a7ac07e6f8",
   "metadata": {},
   "source": [
    "Q5. What is inheritance? Give an example for each type of inheritance."
   ]
  },
  {
   "cell_type": "markdown",
   "id": "74b360a2-adec-4bf0-9819-2f2fcfd82dd2",
   "metadata": {},
   "source": [
    "inheritace: inheritance allows us to define a class that inherits all the method and properties from another class. example:"
   ]
  },
  {
   "cell_type": "code",
   "execution_count": 3,
   "id": "dcea4e0c-2a6a-4390-b823-b234638f6ad5",
   "metadata": {},
   "outputs": [
    {
     "data": {
      "text/plain": [
       "'this is class1'"
      ]
     },
     "execution_count": 3,
     "metadata": {},
     "output_type": "execute_result"
    }
   ],
   "source": [
    "class class1:\n",
    "    def test_class1(self):\n",
    "        return \"this is class1\"\n",
    "class class2(class1):\n",
    "    pass\n",
    "obj_class2 = class2()\n",
    "obj_class2.test_class1()"
   ]
  },
  {
   "cell_type": "code",
   "execution_count": 4,
   "id": "ec073e1e-9d31-4bd9-87ba-6fc0051c5480",
   "metadata": {},
   "outputs": [
    {
     "data": {
      "text/plain": [
       "'this is meth from class2'"
      ]
     },
     "execution_count": 4,
     "metadata": {},
     "output_type": "execute_result"
    }
   ],
   "source": [
    "class class1:\n",
    "    def test_class1(self):\n",
    "        return \"this is meth from class1\"\n",
    "class class2(class1):\n",
    "    def test_class2(self):\n",
    "        return \"this is meth from class2\"\n",
    "class class3(class2):\n",
    "    pass\n",
    "obj_class3 = class3()\n",
    "\n",
    "obj_class3.test_class2()"
   ]
  },
  {
   "cell_type": "code",
   "execution_count": 5,
   "id": "e3666806-42b0-4098-9137-ed650216909d",
   "metadata": {},
   "outputs": [
    {
     "data": {
      "text/plain": [
       "'this is meth from class2'"
      ]
     },
     "execution_count": 5,
     "metadata": {},
     "output_type": "execute_result"
    }
   ],
   "source": [
    "class class1:\n",
    "    def test_class1(self):\n",
    "        return \"this is meth from class1\"\n",
    "class class2():\n",
    "    def test_class2(self):\n",
    "        return \"this is meth from class2\"\n",
    "class class3(class1,class2):\n",
    "    pass\n",
    "obj_class3 = class3()\n",
    "obj_class3.test_class2()"
   ]
  },
  {
   "cell_type": "code",
   "execution_count": null,
   "id": "e2692ba3-d84f-4c22-87c5-22eb79ed19ba",
   "metadata": {},
   "outputs": [],
   "source": []
  }
 ],
 "metadata": {
  "kernelspec": {
   "display_name": "Python 3 (ipykernel)",
   "language": "python",
   "name": "python3"
  },
  "language_info": {
   "codemirror_mode": {
    "name": "ipython",
    "version": 3
   },
   "file_extension": ".py",
   "mimetype": "text/x-python",
   "name": "python",
   "nbconvert_exporter": "python",
   "pygments_lexer": "ipython3",
   "version": "3.10.8"
  }
 },
 "nbformat": 4,
 "nbformat_minor": 5
}
